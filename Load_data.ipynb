{
 "cells": [
  {
   "cell_type": "code",
   "execution_count": 6,
   "metadata": {},
   "outputs": [
    {
     "name": "stdout",
     "output_type": "stream",
     "text": [
      "/mnt/data3/nghiaph/dump.txt\n"
     ]
    }
   ],
   "source": [
    "# write some thing to /mnt/data3/nghiaph\n",
    "import os\n",
    "import numpy as np\n",
    "path = '/mnt/data3/nghiaph'\n",
    "file_name = \"dump.txt\"\n",
    "file_path = os.path.join(path, file_name)\n",
    "print(file_path)\n",
    "with open(file_path, 'w') as f:\n",
    "    f.write(\"Hello World sample 2\")"
   ]
  }
 ],
 "metadata": {
  "kernelspec": {
   "display_name": "GEC_env",
   "language": "python",
   "name": "python3"
  },
  "language_info": {
   "codemirror_mode": {
    "name": "ipython",
    "version": 3
   },
   "file_extension": ".py",
   "mimetype": "text/x-python",
   "name": "python",
   "nbconvert_exporter": "python",
   "pygments_lexer": "ipython3",
   "version": "3.8.10"
  },
  "orig_nbformat": 4
 },
 "nbformat": 4,
 "nbformat_minor": 2
}
