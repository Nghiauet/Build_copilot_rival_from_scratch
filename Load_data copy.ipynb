{
 "cells": [
  {
   "cell_type": "markdown",
   "metadata": {},
   "source": [
    "# Load data"
   ]
  },
  {
   "cell_type": "code",
   "execution_count": 16,
   "metadata": {},
   "outputs": [],
   "source": [
    "import os\n",
    "from datasets import load_dataset, DownloadConfig\n"
   ]
  },
  {
   "cell_type": "code",
   "execution_count": 17,
   "metadata": {},
   "outputs": [],
   "source": [
    "# # add all file in /mnt/data3/nghiaph/pull-github/pull-github-bucket-2109-ver3 to .json file \n",
    "# folder_path = \"/mnt/data3/nghiaph/pull-github/pull-github-bucket-2109-ver3/\" \n",
    "# for file in os.listdir(folder_path):\n",
    "#     file_path = os.path.join(folder_path, file)\n",
    "#     new_file_path = os.path.join(folder_path, file + '.json')\n",
    "#     os.rename(file_path, new_file_path)\n",
    "\n",
    "# print(\"All files have been renamed with the .json extension.\")\n"
   ]
  },
  {
   "cell_type": "code",
   "execution_count": 18,
   "metadata": {},
   "outputs": [
    {
     "name": "stdout",
     "output_type": "stream",
     "text": [
      "/mnt/data3/nghiaph/huggingface/transformers\n"
     ]
    }
   ],
   "source": [
    "os.environ['TRANSFORMERS_CACHE'] = '/mnt/data3/nghiaph/huggingface/transformers'\n",
    "print(os.getenv('TRANSFORMERS_CACHE'))\n"
   ]
  },
  {
   "cell_type": "code",
   "execution_count": 19,
   "metadata": {},
   "outputs": [],
   "source": [
    "from datasets import load_dataset, DownloadConfig\n",
    "download_config = DownloadConfig(delete_extracted=True,\n",
    "                                 cache_dir='/mnt/data3/nghiaph/huggingface/transformers/datasets') \n"
   ]
  },
  {
   "cell_type": "code",
   "execution_count": 20,
   "metadata": {},
   "outputs": [],
   "source": [
    "# dataset = load_dataset(path = \"/mnt/data3/nghiaph/pull-github/pull-github-bucket-2109-ver3/\", \n",
    "#                        split=\"train\",\n",
    "#                        download_config=download_config,\n",
    "#                        )"
   ]
  },
  {
   "cell_type": "code",
   "execution_count": 21,
   "metadata": {},
   "outputs": [],
   "source": [
    "# import psutil\n",
    "# import os\n",
    "# print(f\"Number of python files code in dataset : {len(dataset)}\")\n",
    "# ds_size = sum(os.stat(f[\"filename\"]).st_size for f in dataset.cache_files)\n",
    "# # os.stat.st_size is expressed in bytes, so we convert to GB\n",
    "# print(f\"Dataset size (cache file) : {ds_size / 2**30:.2f} GB\")\n",
    "# # Process.memory_info is expressed in bytes, so we convert to MB\n",
    "# print(f\"RAM used: {psutil.Process(os.getpid()).memory_info().rss >> 20} MB\")"
   ]
  },
  {
   "cell_type": "code",
   "execution_count": 22,
   "metadata": {},
   "outputs": [],
   "source": [
    "# streamed_dataset = load_dataset(\"/mnt/data3/nghiaph/pull-github/pull-github-bucket-2109-ver3/\",\n",
    "#                                 split=\"train\", \n",
    "#                                 streaming=True\n",
    "#                                 )"
   ]
  },
  {
   "cell_type": "code",
   "execution_count": 23,
   "metadata": {},
   "outputs": [],
   "source": [
    "# iterator = iter(streamed_dataset)\n",
    "# print(next(iterator))\n",
    "# print(next(iterator))"
   ]
  },
  {
   "cell_type": "code",
   "execution_count": 24,
   "metadata": {},
   "outputs": [
    {
     "data": {
      "application/vnd.jupyter.widget-view+json": {
       "model_id": "6304d8cd542b4337a95d698fbc997349",
       "version_major": 2,
       "version_minor": 0
      },
      "text/plain": [
       "Downloading readme:   0%|          | 0.00/1.39k [00:00<?, ?B/s]"
      ]
     },
     "metadata": {},
     "output_type": "display_data"
    },
    {
     "data": {
      "application/vnd.jupyter.widget-view+json": {
       "model_id": "2d16317fc8124060b86cf504ca9983a9",
       "version_major": 2,
       "version_minor": 0
      },
      "text/plain": [
       "Resolving data files:   0%|          | 0/184 [00:00<?, ?it/s]"
      ]
     },
     "metadata": {},
     "output_type": "display_data"
    }
   ],
   "source": [
    "remote_dataset = load_dataset('transformersbook/codeparrot', split=\"train\",\n",
    " streaming=True)\n"
   ]
  },
  {
   "cell_type": "code",
   "execution_count": 25,
   "metadata": {},
   "outputs": [
    {
     "name": "stdout",
     "output_type": "stream",
     "text": [
      "{'repo_name': 'ahmedbodi/AutobahnPython', 'path': 'examples/asyncio/websocket/echo/client_coroutines.py', 'copies': '13', 'size': '2044', 'content': '###############################################################################\\n##\\n##  Copyright (C) 2013-2014 Tavendo GmbH\\n##\\n##  Licensed under the Apache License, Version 2.0 (the \"License\");\\n##  you may not use this file except in compliance with the License.\\n##  You may obtain a copy of the License at\\n##\\n##      http://www.apache.org/licenses/LICENSE-2.0\\n##\\n##  Unless required by applicable law or agreed to in writing, software\\n##  distributed under the License is distributed on an \"AS IS\" BASIS,\\n##  WITHOUT WARRANTIES OR CONDITIONS OF ANY KIND, either express or implied.\\n##  See the License for the specific language governing permissions and\\n##  limitations under the License.\\n##\\n###############################################################################\\n\\nfrom autobahn.asyncio.websocket import WebSocketClientProtocol, \\\\\\n                                       WebSocketClientFactory\\n\\nimport asyncio\\n\\n\\n\\nclass MyClientProtocol(WebSocketClientProtocol):\\n\\n   def onConnect(self, response):\\n      print(\"Server connected: {0}\".format(response.peer))\\n\\n   @asyncio.coroutine\\n   def onOpen(self):\\n      print(\"WebSocket connection open.\")\\n\\n      ## start sending messages every second ..\\n      while True:\\n         self.sendMessage(u\"Hello, world!\".encode(\\'utf8\\'))\\n         self.sendMessage(b\"\\\\x00\\\\x01\\\\x03\\\\x04\", isBinary = True)\\n         yield from asyncio.sleep(1)\\n\\n   def onMessage(self, payload, isBinary):\\n      if isBinary:\\n         print(\"Binary message received: {0} bytes\".format(len(payload)))\\n      else:\\n         print(\"Text message received: {0}\".format(payload.decode(\\'utf8\\')))\\n\\n   def onClose(self, wasClean, code, reason):\\n      print(\"WebSocket connection closed: {0}\".format(reason))\\n\\n\\n\\nif __name__ == \\'__main__\\':\\n\\n   import asyncio\\n\\n   factory = WebSocketClientFactory(\"ws://localhost:9000\", debug = False)\\n   factory.protocol = MyClientProtocol\\n\\n   loop = asyncio.get_event_loop()\\n   coro = loop.create_connection(factory, \\'127.0.0.1\\', 9000)\\n   loop.run_until_complete(coro)\\n   loop.run_forever()\\n   loop.close()\\n', 'license': 'apache-2.0'}\n",
      "{'repo_name': 'ifduyue/django', 'path': 'django/core/checks/registry.py', 'copies': '13', 'size': '3108', 'content': 'from itertools import chain\\n\\nfrom django.utils.itercompat import is_iterable\\n\\n\\nclass Tags:\\n    \"\"\"\\n    Built-in tags for internal checks.\\n    \"\"\"\\n    admin = \\'admin\\'\\n    caches = \\'caches\\'\\n    compatibility = \\'compatibility\\'\\n    database = \\'database\\'\\n    models = \\'models\\'\\n    security = \\'security\\'\\n    signals = \\'signals\\'\\n    templates = \\'templates\\'\\n    urls = \\'urls\\'\\n\\n\\nclass CheckRegistry:\\n\\n    def __init__(self):\\n        self.registered_checks = set()\\n        self.deployment_checks = set()\\n\\n    def register(self, check=None, *tags, **kwargs):\\n        \"\"\"\\n        Can be used as a function or a decorator. Register given function\\n        `f` labeled with given `tags`. The function should receive **kwargs\\n        and return list of Errors and Warnings.\\n\\n        Example::\\n\\n            registry = CheckRegistry()\\n            @registry.register(\\'mytag\\', \\'anothertag\\')\\n            def my_check(apps, **kwargs):\\n                # ... perform checks and collect `errors` ...\\n                return errors\\n            # or\\n            registry.register(my_check, \\'mytag\\', \\'anothertag\\')\\n        \"\"\"\\n        kwargs.setdefault(\\'deploy\\', False)\\n\\n        def inner(check):\\n            check.tags = tags\\n            checks = self.deployment_checks if kwargs[\\'deploy\\'] else self.registered_checks\\n            checks.add(check)\\n            return check\\n\\n        if callable(check):\\n            return inner(check)\\n        else:\\n            if check:\\n                tags += (check, )\\n            return inner\\n\\n    def run_checks(self, app_configs=None, tags=None, include_deployment_checks=False):\\n        \"\"\"\\n        Run all registered checks and return list of Errors and Warnings.\\n        \"\"\"\\n        errors = []\\n        checks = self.get_checks(include_deployment_checks)\\n\\n        if tags is not None:\\n            checks = [check for check in checks if not set(check.tags).isdisjoint(tags)]\\n        else:\\n            # By default, \\'database\\'-tagged checks are not run as they do more\\n            # than mere static code analysis.\\n            checks = [check for check in checks if Tags.database not in check.tags]\\n\\n        for check in checks:\\n            new_errors = check(app_configs=app_configs)\\n            assert is_iterable(new_errors), (\\n                \"The function %r did not return a list. All functions registered \"\\n                \"with the checks registry must return a list.\" % check)\\n            errors.extend(new_errors)\\n        return errors\\n\\n    def tag_exists(self, tag, include_deployment_checks=False):\\n        return tag in self.tags_available(include_deployment_checks)\\n\\n    def tags_available(self, deployment_checks=False):\\n        return set(chain.from_iterable(\\n            check.tags for check in self.get_checks(deployment_checks)\\n        ))\\n\\n    def get_checks(self, include_deployment_checks=False):\\n        checks = list(self.registered_checks)\\n        if include_deployment_checks:\\n            checks.extend(self.deployment_checks)\\n        return checks\\n\\n\\nregistry = CheckRegistry()\\nregister = registry.register\\nrun_checks = registry.run_checks\\ntag_exists = registry.tag_exists\\n', 'license': 'bsd-3-clause'}\n"
     ]
    }
   ],
   "source": [
    "iterator = iter(remote_dataset)\n",
    "print(next(iterator))\n",
    "print(next(iterator))"
   ]
  },
  {
   "cell_type": "code",
   "execution_count": null,
   "metadata": {},
   "outputs": [],
   "source": []
  }
 ],
 "metadata": {
  "kernelspec": {
   "display_name": "GEC_env",
   "language": "python",
   "name": "python3"
  },
  "language_info": {
   "codemirror_mode": {
    "name": "ipython",
    "version": 3
   },
   "file_extension": ".py",
   "mimetype": "text/x-python",
   "name": "python",
   "nbconvert_exporter": "python",
   "pygments_lexer": "ipython3",
   "version": "3.8.10"
  },
  "orig_nbformat": 4
 },
 "nbformat": 4,
 "nbformat_minor": 2
}
